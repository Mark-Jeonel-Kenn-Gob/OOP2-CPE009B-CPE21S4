{
  "nbformat": 4,
  "nbformat_minor": 0,
  "metadata": {
    "colab": {
      "provenance": [],
      "authorship_tag": "ABX9TyOujygqiuIcv0VbtcIexSEj",
      "include_colab_link": true
    },
    "kernelspec": {
      "name": "python3",
      "display_name": "Python 3"
    },
    "language_info": {
      "name": "python"
    }
  },
  "cells": [
    {
      "cell_type": "markdown",
      "metadata": {
        "id": "view-in-github",
        "colab_type": "text"
      },
      "source": [
        "<a href=\"https://colab.research.google.com/github/Mark-Jeonel-Kenn-Gob/OOP2-CPE009B-CPE21S4/blob/main/Exercise_1_(OOP2).ipynb\" target=\"_parent\"><img src=\"https://colab.research.google.com/assets/colab-badge.svg\" alt=\"Open In Colab\"/></a>"
      ]
    },
    {
      "cell_type": "code",
      "source": [
        "#Super/Parent Class Constructor\n",
        "\n",
        "class Person:\n",
        "  def __init__(self,name,age, birthdate):\n",
        "    self.name = name\n",
        "    self.age = age\n",
        "    self.birthdate = birthdate #defining attributes and identity\n",
        "\n",
        "  def person_attribute(self): #method constructor\n",
        "    return f\"My name is {self.name} and with an age of {self.age} and birthdate of {self.birthdate}.\"\n",
        "\n",
        "class Teacher(Person): #subclass constructor\n",
        "  pass\n",
        "class Student(Person):\n",
        "  pass #subclass constructor\n",
        "\n",
        "#Object Instantiation\n",
        "person = Person(\"Kenn\", 19, \"January 26, 2005\") #behavior/instance of a class\n",
        "print (person.person_attribute())\n",
        "print()\n",
        "\n",
        "student = Student(\"Mark\", 20, \"April 8, 2004\")\n",
        "print (student.name)\n",
        "print (student.age)\n",
        "print (student.birthdate)\n",
        "print()\n",
        "\n",
        "teacher = Teacher(\"Mr. Jeonel\", 22, \"September 11, 2001\")\n",
        "print (teacher.person_attribute())"
      ],
      "metadata": {
        "colab": {
          "base_uri": "https://localhost:8080/"
        },
        "id": "-jNL7aUEKHcO",
        "outputId": "5c9784da-ac25-4192-943c-9af7a6d23886"
      },
      "execution_count": 46,
      "outputs": [
        {
          "output_type": "stream",
          "name": "stdout",
          "text": [
            "My name is Kenn and with an age of 19 and birthdate of January 26, 2005.\n",
            "\n",
            "Mark\n",
            "20\n",
            "April 8, 2004\n",
            "\n",
            "My name is Mr. Jeonel and with an age of 22 and birthdate of September 11, 2001.\n"
          ]
        }
      ]
    },
    {
      "cell_type": "markdown",
      "source": [
        "#Challenging Python Problem:\n",
        "Create a python program that has the following:\n",
        "1. Super class named as Shapes\n",
        "2. Subclasses: Rectangle, Square\n",
        "3. Methods: Perimeter(), Area()\n",
        "4. Object name: rectangle, square\n",
        "5. Inherits the attributes of superclass Shapes\n",
        "  - self.side=side"
      ],
      "metadata": {
        "id": "FcbVuOtSSwaI"
      }
    },
    {
      "cell_type": "code",
      "source": [
        "#Super/Parent Class Constructor (Shapes)\n",
        "class Shapes:\n",
        "  def __init__(self, length, width):\n",
        "    self.length = length\n",
        "    self.width = width\n",
        "\n",
        "  def Perimeter(self):\n",
        "    return 2 * (self.length + self.width)\n",
        "\n",
        "  def Area(self):\n",
        "    return self.length * self.width\n",
        "\n",
        "#Rectangle Subclass\n",
        "class Rectangle(Shapes):\n",
        "  pass\n",
        "\n",
        "#Square Subclass\n",
        "class Square(Shapes):\n",
        "  def __init__(self, side):\n",
        "    self.side = side\n",
        "    super().__init__(side, side)\n",
        "\n",
        "#Object Instantiation\n",
        "rectangle = Rectangle(4, 6)\n",
        "print (f\"The rectangle's perimeter is {rectangle.Perimeter()}.\")\n",
        "print(f\"The rectangle's area is {rectangle.Area()}.\")\n",
        "print()\n",
        "\n",
        "square = Square(3)\n",
        "print (f\"The square's perimeter is {square.Perimeter()}.\")\n",
        "print(f\"The square's area is {square.Area()}.\")"
      ],
      "metadata": {
        "colab": {
          "base_uri": "https://localhost:8080/"
        },
        "id": "PCH0ILkdVGt2",
        "outputId": "10e6eb48-7b55-4fa3-c3db-43ebbe95783b"
      },
      "execution_count": 55,
      "outputs": [
        {
          "output_type": "stream",
          "name": "stdout",
          "text": [
            "The rectangle's perimeter is 20.\n",
            "The rectangle's area is 24.\n",
            "\n",
            "The square's perimeter is 12.\n",
            "The square's area is 9.\n"
          ]
        }
      ]
    }
  ]
}