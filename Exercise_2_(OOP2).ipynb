{
  "nbformat": 4,
  "nbformat_minor": 0,
  "metadata": {
    "colab": {
      "provenance": [],
      "authorship_tag": "ABX9TyMzRfngZO76+Cp/PRQnZJa1",
      "include_colab_link": true
    },
    "kernelspec": {
      "name": "python3",
      "display_name": "Python 3"
    },
    "language_info": {
      "name": "python"
    }
  },
  "cells": [
    {
      "cell_type": "markdown",
      "metadata": {
        "id": "view-in-github",
        "colab_type": "text"
      },
      "source": [
        "<a href=\"https://colab.research.google.com/github/Mark-Jeonel-Kenn-Gob/OOP2-CPE009B-CPE21S4/blob/main/Exercise_2_(OOP2).ipynb\" target=\"_parent\"><img src=\"https://colab.research.google.com/assets/colab-badge.svg\" alt=\"Open In Colab\"/></a>"
      ]
    },
    {
      "cell_type": "code",
      "source": [
        "#Example 1\n",
        "\n",
        "class foo:\n",
        "    def __init__(self,a,b):\n",
        "        self.a=a\n",
        "        self.b=b\n",
        "    def add(self):\n",
        "        return self.a + self.b\n",
        "foo_object = foo(4,3)\n",
        "print(\"The value of a is:\", foo_object.a)\n",
        "print(foo_object.b)\n",
        "print(foo_object.add())"
      ],
      "metadata": {
        "colab": {
          "base_uri": "https://localhost:8080/"
        },
        "id": "RfNDPlh9W8NK",
        "outputId": "850de575-df6a-4683-e664-5a00c756972f"
      },
      "execution_count": 10,
      "outputs": [
        {
          "output_type": "stream",
          "name": "stdout",
          "text": [
            "The value of a is: 4\n",
            "3\n",
            "7\n"
          ]
        }
      ]
    },
    {
      "cell_type": "code",
      "source": [
        "#Example 2\n",
        "#Complete the program by adding object name and\n",
        "#print output variable that display the instance/behavior of every function\n",
        "#Apply encapsulation by typing _ single underscore for private variable\n",
        "\n",
        "class Counter:\n",
        "    def __init__(self):\n",
        "        self._current = 0\n",
        "    def increment(self):\n",
        "        self._current += 1\n",
        "    def value(self):\n",
        "        return self._current\n",
        "    def reset(self):\n",
        "        self._current = 0\n",
        "\n",
        "class Counter:\n",
        "    def __init__(self):\n",
        "        self._current = 0\n",
        "\n",
        "    def increment(self):\n",
        "        self._current += 1\n",
        "        return self._current\n",
        "\n",
        "    def value(self):\n",
        "        return self._current\n",
        "\n",
        "    def reset(self):\n",
        "        self._current = 0\n",
        "\n",
        "count = Counter()\n",
        "print(count._current)\n",
        "print(count.increment())\n",
        "print(count.value())\n",
        "print(count.reset())"
      ],
      "metadata": {
        "colab": {
          "base_uri": "https://localhost:8080/"
        },
        "id": "mocWidT4bXfw",
        "outputId": "31465f54-4bb2-4d77-d54b-9432c0367337"
      },
      "execution_count": 11,
      "outputs": [
        {
          "output_type": "stream",
          "name": "stdout",
          "text": [
            "0\n",
            "1\n",
            "1\n",
            "None\n"
          ]
        }
      ]
    }
  ]
}