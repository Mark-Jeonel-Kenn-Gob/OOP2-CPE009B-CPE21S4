{
  "nbformat": 4,
  "nbformat_minor": 0,
  "metadata": {
    "colab": {
      "provenance": [],
      "authorship_tag": "ABX9TyODsN4woXl/t/xsaciP5lyu",
      "include_colab_link": true
    },
    "kernelspec": {
      "name": "python3",
      "display_name": "Python 3"
    },
    "language_info": {
      "name": "python"
    }
  },
  "cells": [
    {
      "cell_type": "markdown",
      "metadata": {
        "id": "view-in-github",
        "colab_type": "text"
      },
      "source": [
        "<a href=\"https://colab.research.google.com/github/Mark-Jeonel-Kenn-Gob/OOP2-CPE009B-CPE21S4/blob/main/Laboratory_Activity_3_(OOP2).ipynb\" target=\"_parent\"><img src=\"https://colab.research.google.com/assets/colab-badge.svg\" alt=\"Open In Colab\"/></a>"
      ]
    },
    {
      "cell_type": "code",
      "source": [
        "#Laboratory Activity 3: Inheritance, Encapsulation, and Abstraction\n",
        "#Create a program in python that satisfies the following:\n",
        "#Inheritance, Encapsulation, and Abstraction concept with ADT list\n",
        "#Class(Employee: emp_id. emp_name, emp_address, Fulltime: allowance, rate, PartTime: rate)\n",
        "#Class(Salary: salary_id, Salary, cut_off_date, days_of_work)\n",
        "\n",
        "from IPython import get_ipython\n",
        "from IPython.display import display\n",
        "\n",
        "class Employee:\n",
        "    def __init__(self, emp_id, emp_name, emp_address):\n",
        "        self._emp_id = emp_id\n",
        "        self._emp_name = emp_name\n",
        "        self._emp_address = emp_address\n",
        "\n",
        "    def get_emp_id(self):\n",
        "        return self._emp_id\n",
        "\n",
        "    def get_emp_name(self):\n",
        "        return self._emp_name\n",
        "\n",
        "    def get_emp_address(self):\n",
        "        return self._emp_address\n",
        "\n",
        "    def calculate_salary(self):\n",
        "        raise NotImplementedError(\"Subclasses must implement calculate_salary\")\n",
        "\n",
        "\n",
        "class Fulltime(Employee):\n",
        "    def __init__(self, emp_id, emp_name, emp_address, allowance, rate):\n",
        "        super().__init__(emp_id, emp_name, emp_address)\n",
        "        self._allowance = allowance\n",
        "        self._rate = rate\n",
        "\n",
        "    def calculate_salary(self):\n",
        "        return (self._rate * 20) + self._allowance\n",
        "\n",
        "\n",
        "class Parttime(Employee):\n",
        "    def __init__(self, emp_id, emp_name, emp_address, rate):\n",
        "        super().__init__(emp_id, emp_name, emp_address)\n",
        "        self._rate = rate\n",
        "\n",
        "    def calculate_salary(self):\n",
        "        return self._rate * 8 * 5\n",
        "\n",
        "\n",
        "class Salary:\n",
        "    def __init__(self, salary_id, cut_off_date):\n",
        "        self._salary_id = salary_id\n",
        "        self._cut_off_date = cut_off_date\n",
        "        self._employees = []  #ADT list to store employees\n",
        "\n",
        "    def add_employee(self, employee):\n",
        "        self._employees.append(employee)\n",
        "\n",
        "    def calculate_total_salary(self):\n",
        "        total_salary = 0\n",
        "        for employee in self._employees:\n",
        "            total_salary += employee.calculate_salary()\n",
        "        return total_salary\n",
        "\n",
        "    def get_salary_id(self):\n",
        "        return self._salary_id\n",
        "\n",
        "    def get_cut_off_date(self):\n",
        "        return self._cut_off_date\n",
        "\n",
        "#Sample Program Input\n",
        "employee1 = Fulltime(\"123\", \"Buddy Zabala\", \"24 Kalantiaw St\", 5000, 20)\n",
        "employee2 = Parttime(\"456\", \"Eleandre Buendia\", \"68 Dr. Sixto Antonio Ave\", 15)\n",
        "\n",
        "salary1 = Salary(\"S1\", \"2023-10-31\")\n",
        "salary1.add_employee(employee1)\n",
        "salary1.add_employee(employee2)\n",
        "\n",
        "print(f\"Employee ID: {employee1.get_emp_id()}\")\n",
        "print(f\"Employee Name: {employee1.get_emp_name()}\")\n",
        "print(f\"Employee Salary: {employee1.calculate_salary()}\")\n",
        "print()\n",
        "print(f\"Employee ID: {employee2.get_emp_id()}\")\n",
        "print(f\"Employee Name: {employee2.get_emp_name()}\")\n",
        "print(f\"Employee Salary: {employee2.calculate_salary()}\")"
      ],
      "metadata": {
        "colab": {
          "base_uri": "https://localhost:8080/"
        },
        "id": "wGR4HemXj36y",
        "outputId": "b6c0341f-2804-4a60-92b8-22cce18171bd"
      },
      "execution_count": 8,
      "outputs": [
        {
          "output_type": "stream",
          "name": "stdout",
          "text": [
            "Employee ID: 123\n",
            "Employee Name: Buddy Zabala\n",
            "Employee Salary: 5400\n",
            "\n",
            "Employee ID: 456\n",
            "Employee Name: Eleandre Buendia\n",
            "Employee Salary: 600\n"
          ]
        }
      ]
    }
  ]
}